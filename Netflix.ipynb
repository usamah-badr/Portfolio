{
 "cells": [
  {
   "cell_type": "markdown",
   "id": "ac973d53-b1ca-4fca-80ca-55bc4859cc4f",
   "metadata": {},
   "source": [
    "\n",
    "# 📊 Data Analyst Portfolio Project\n",
    "\n",
    "Welcome to my Data Analyst Portfolio!  \n",
    "This notebook demonstrates my skills in **data cleaning, analysis, and visualization** using Python.  \n",
    "It includes exploratory data analysis (EDA) and insights extracted from the dataset.\n",
    "\n",
    "---\n"
   ]
  },
  {
   "cell_type": "markdown",
   "id": "2fe5c3c1-ae80-4380-8b50-279678d1592f",
   "metadata": {},
   "source": [
    "## 📌 Introduction <a id=\"introduction\"></a>\n",
    "\n",
    "The goal of this project is to analyze the dataset, uncover patterns, and present meaningful insights.  \n",
    "This analysis highlights practical data analyst skills such as:\n",
    "- Data cleaning & preprocessing\n",
    "- Exploratory Data Analysis (EDA)\n",
    "- Visualization & storytelling\n"
   ]
  },
  {
   "cell_type": "markdown",
   "id": "48e881c4-a171-4d98-935c-ff0205117c61",
   "metadata": {},
   "source": [
    "# Investigating Netflix Movies Project\n",
    "\n",
    "1. What was the most frequent movie duration in the 1990s? Save an approximate answer as an integer called duration\n",
    "2. A movie is considered short if it is less than 90 minutes. Count the number of short action movies relesaed 1990s and save this integer as short_movie_count\n"
   ]
  },
  {
   "cell_type": "markdown",
   "id": "3117e8da-7fa0-4da8-aa56-efb44f245126",
   "metadata": {},
   "source": [
    "### Importing relevant libraries"
   ]
  },
  {
   "cell_type": "code",
   "execution_count": 3,
   "id": "3b1f2e07-19a9-429d-aeb0-f406df32ad20",
   "metadata": {},
   "outputs": [],
   "source": [
    "import pandas as pd\n",
    "import matplotlib.pyplot as plt"
   ]
  },
  {
   "cell_type": "markdown",
   "id": "50e2ec32-0a41-442a-889a-17552250f9b1",
   "metadata": {},
   "source": [
    "### Reading in the csv vile"
   ]
  },
  {
   "cell_type": "code",
   "execution_count": 4,
   "id": "d5fa6f5d-7a0a-4731-b3c1-853130ed7218",
   "metadata": {},
   "outputs": [
    {
     "data": {
      "text/html": [
       "<div>\n",
       "<style scoped>\n",
       "    .dataframe tbody tr th:only-of-type {\n",
       "        vertical-align: middle;\n",
       "    }\n",
       "\n",
       "    .dataframe tbody tr th {\n",
       "        vertical-align: top;\n",
       "    }\n",
       "\n",
       "    .dataframe thead th {\n",
       "        text-align: right;\n",
       "    }\n",
       "</style>\n",
       "<table border=\"1\" class=\"dataframe\">\n",
       "  <thead>\n",
       "    <tr style=\"text-align: right;\">\n",
       "      <th></th>\n",
       "      <th>show_id</th>\n",
       "      <th>type</th>\n",
       "      <th>title</th>\n",
       "      <th>director</th>\n",
       "      <th>cast</th>\n",
       "      <th>country</th>\n",
       "      <th>date_added</th>\n",
       "      <th>release_year</th>\n",
       "      <th>duration</th>\n",
       "      <th>description</th>\n",
       "      <th>genre</th>\n",
       "    </tr>\n",
       "  </thead>\n",
       "  <tbody>\n",
       "    <tr>\n",
       "      <th>0</th>\n",
       "      <td>s2</td>\n",
       "      <td>Movie</td>\n",
       "      <td>7:19</td>\n",
       "      <td>Jorge Michel Grau</td>\n",
       "      <td>Demián Bichir, Héctor Bonilla, Oscar Serrano, ...</td>\n",
       "      <td>Mexico</td>\n",
       "      <td>December 23, 2016</td>\n",
       "      <td>2016</td>\n",
       "      <td>93</td>\n",
       "      <td>After a devastating earthquake hits Mexico Cit...</td>\n",
       "      <td>Dramas</td>\n",
       "    </tr>\n",
       "    <tr>\n",
       "      <th>1</th>\n",
       "      <td>s3</td>\n",
       "      <td>Movie</td>\n",
       "      <td>23:59</td>\n",
       "      <td>Gilbert Chan</td>\n",
       "      <td>Tedd Chan, Stella Chung, Henley Hii, Lawrence ...</td>\n",
       "      <td>Singapore</td>\n",
       "      <td>December 20, 2018</td>\n",
       "      <td>2011</td>\n",
       "      <td>78</td>\n",
       "      <td>When an army recruit is found dead, his fellow...</td>\n",
       "      <td>Horror Movies</td>\n",
       "    </tr>\n",
       "    <tr>\n",
       "      <th>2</th>\n",
       "      <td>s4</td>\n",
       "      <td>Movie</td>\n",
       "      <td>9</td>\n",
       "      <td>Shane Acker</td>\n",
       "      <td>Elijah Wood, John C. Reilly, Jennifer Connelly...</td>\n",
       "      <td>United States</td>\n",
       "      <td>November 16, 2017</td>\n",
       "      <td>2009</td>\n",
       "      <td>80</td>\n",
       "      <td>In a postapocalyptic world, rag-doll robots hi...</td>\n",
       "      <td>Action</td>\n",
       "    </tr>\n",
       "    <tr>\n",
       "      <th>3</th>\n",
       "      <td>s5</td>\n",
       "      <td>Movie</td>\n",
       "      <td>21</td>\n",
       "      <td>Robert Luketic</td>\n",
       "      <td>Jim Sturgess, Kevin Spacey, Kate Bosworth, Aar...</td>\n",
       "      <td>United States</td>\n",
       "      <td>January 1, 2020</td>\n",
       "      <td>2008</td>\n",
       "      <td>123</td>\n",
       "      <td>A brilliant group of students become card-coun...</td>\n",
       "      <td>Dramas</td>\n",
       "    </tr>\n",
       "    <tr>\n",
       "      <th>4</th>\n",
       "      <td>s6</td>\n",
       "      <td>TV Show</td>\n",
       "      <td>46</td>\n",
       "      <td>Serdar Akar</td>\n",
       "      <td>Erdal Beşikçioğlu, Yasemin Allen, Melis Birkan...</td>\n",
       "      <td>Turkey</td>\n",
       "      <td>July 1, 2017</td>\n",
       "      <td>2016</td>\n",
       "      <td>1</td>\n",
       "      <td>A genetics professor experiments with a treatm...</td>\n",
       "      <td>International TV</td>\n",
       "    </tr>\n",
       "  </tbody>\n",
       "</table>\n",
       "</div>"
      ],
      "text/plain": [
       "  show_id     type  title           director  \\\n",
       "0      s2    Movie   7:19  Jorge Michel Grau   \n",
       "1      s3    Movie  23:59       Gilbert Chan   \n",
       "2      s4    Movie      9        Shane Acker   \n",
       "3      s5    Movie     21     Robert Luketic   \n",
       "4      s6  TV Show     46        Serdar Akar   \n",
       "\n",
       "                                                cast        country  \\\n",
       "0  Demián Bichir, Héctor Bonilla, Oscar Serrano, ...         Mexico   \n",
       "1  Tedd Chan, Stella Chung, Henley Hii, Lawrence ...      Singapore   \n",
       "2  Elijah Wood, John C. Reilly, Jennifer Connelly...  United States   \n",
       "3  Jim Sturgess, Kevin Spacey, Kate Bosworth, Aar...  United States   \n",
       "4  Erdal Beşikçioğlu, Yasemin Allen, Melis Birkan...         Turkey   \n",
       "\n",
       "          date_added  release_year  duration  \\\n",
       "0  December 23, 2016          2016        93   \n",
       "1  December 20, 2018          2011        78   \n",
       "2  November 16, 2017          2009        80   \n",
       "3    January 1, 2020          2008       123   \n",
       "4       July 1, 2017          2016         1   \n",
       "\n",
       "                                         description             genre  \n",
       "0  After a devastating earthquake hits Mexico Cit...            Dramas  \n",
       "1  When an army recruit is found dead, his fellow...     Horror Movies  \n",
       "2  In a postapocalyptic world, rag-doll robots hi...            Action  \n",
       "3  A brilliant group of students become card-coun...            Dramas  \n",
       "4  A genetics professor experiments with a treatm...  International TV  "
      ]
     },
     "execution_count": 4,
     "metadata": {},
     "output_type": "execute_result"
    }
   ],
   "source": [
    "df = pd.read_csv(\"netflix_data.csv\")\n",
    "df.head()"
   ]
  },
  {
   "cell_type": "markdown",
   "id": "57b2d6c7-8e3d-4edd-afd0-c32c074c955f",
   "metadata": {},
   "source": [
    "### Having an overview of the data"
   ]
  },
  {
   "cell_type": "code",
   "execution_count": 5,
   "id": "d332684c-c6c6-48c2-b974-d2204bcc6df9",
   "metadata": {},
   "outputs": [
    {
     "name": "stdout",
     "output_type": "stream",
     "text": [
      "<class 'pandas.core.frame.DataFrame'>\n",
      "RangeIndex: 4812 entries, 0 to 4811\n",
      "Data columns (total 11 columns):\n",
      " #   Column        Non-Null Count  Dtype \n",
      "---  ------        --------------  ----- \n",
      " 0   show_id       4812 non-null   object\n",
      " 1   type          4812 non-null   object\n",
      " 2   title         4812 non-null   object\n",
      " 3   director      4812 non-null   object\n",
      " 4   cast          4812 non-null   object\n",
      " 5   country       4812 non-null   object\n",
      " 6   date_added    4812 non-null   object\n",
      " 7   release_year  4812 non-null   int64 \n",
      " 8   duration      4812 non-null   int64 \n",
      " 9   description   4812 non-null   object\n",
      " 10  genre         4812 non-null   object\n",
      "dtypes: int64(2), object(9)\n",
      "memory usage: 413.7+ KB\n"
     ]
    }
   ],
   "source": [
    "df.info()"
   ]
  },
  {
   "cell_type": "markdown",
   "id": "d4de414c-4949-419b-98c1-400baefe313a",
   "metadata": {},
   "source": [
    "The dataframe has 11 columns, there are no null values and the target colums are in the right data format"
   ]
  },
  {
   "cell_type": "markdown",
   "id": "f3ffe0cf-8320-4690-b1c8-483431502a0d",
   "metadata": {},
   "source": [
    "### Checking for duplicate values/entries"
   ]
  },
  {
   "cell_type": "code",
   "execution_count": 13,
   "id": "c81b41b6-c3b1-4dcb-a7aa-921c2aef6534",
   "metadata": {},
   "outputs": [
    {
     "data": {
      "text/plain": [
       "np.int64(0)"
      ]
     },
     "execution_count": 13,
     "metadata": {},
     "output_type": "execute_result"
    }
   ],
   "source": [
    "df.duplicated().sum()"
   ]
  },
  {
   "cell_type": "markdown",
   "id": "463c98c7-f952-499d-95c5-1762d6d849fe",
   "metadata": {},
   "source": [
    "# Subsetting the data"
   ]
  },
  {
   "cell_type": "markdown",
   "id": "e70d3d15-56b0-42cc-bf19-72a964a8c688",
   "metadata": {},
   "source": [
    "### Subsetting the dataframe to isolate movies released in the 1990s"
   ]
  },
  {
   "cell_type": "code",
   "execution_count": 19,
   "id": "6beac628-4f29-4988-a5e0-ddf93dfb5e1e",
   "metadata": {},
   "outputs": [
    {
     "data": {
      "text/plain": [
       "release_year\n",
       "1997    26\n",
       "1998    26\n",
       "1999    26\n",
       "1993    16\n",
       "1995    16\n",
       "1992    16\n",
       "1990    15\n",
       "1996    15\n",
       "1994    14\n",
       "1991    14\n",
       "Name: count, dtype: int64"
      ]
     },
     "execution_count": 19,
     "metadata": {},
     "output_type": "execute_result"
    }
   ],
   "source": [
    "subset = df[\"release_year\"].between(1990,1999)\n",
    "df = df[subset]\n",
    "df[\"release_year\"].value_counts()"
   ]
  },
  {
   "cell_type": "markdown",
   "id": "cc1f3d9e-e47c-4ae4-9742-5aac8daa2af6",
   "metadata": {},
   "source": [
    "### Creating an histogram to visualize the count of movies released in the 1990s"
   ]
  },
  {
   "cell_type": "code",
   "execution_count": 11,
   "id": "f8afdff2-4eea-46b3-98a3-c1e596c2bb3f",
   "metadata": {},
   "outputs": [
    {
     "data": {
      "image/png": "[encoded data removed]",
      "text/plain": [
       "<Figure size 640x480 with 1 Axes>"
      ]
     },
     "metadata": {},
     "output_type": "display_data"
    }
   ],
   "source": [
    "plt.hist(df[\"release_year\"])\n",
    "plt.xlabel(\"Year\")\n",
    "plt.ylabel(\"Count fo movies\")\n",
    "plt.title(\"Distribution of Movies Released in the 1990s\")\n",
    "plt.show();"
   ]
  },
  {
   "cell_type": "markdown",
   "id": "855de7d5-c885-4ca1-8cfa-774e43f8d32b",
   "metadata": {},
   "source": [
    "Netflix featured a higher propotion of movies premiered in the late 1990s than those released in the early amd mid 1990s"
   ]
  },
  {
   "cell_type": "markdown",
   "id": "d121a03c-1568-41da-b4ef-64f86a57f94d",
   "metadata": {},
   "source": [
    "# Question 1\n",
    "\n",
    "What was the most frequent movie duration in the 1990s? Save an approximate answer as an integer called duration"
   ]
  },
  {
   "cell_type": "code",
   "execution_count": 22,
   "id": "488209fc-1f4f-4fb6-b4d4-a6cb42f96563",
   "metadata": {},
   "outputs": [
    {
     "data": {
      "text/plain": [
       "duration\n",
       "94     7\n",
       "101    6\n",
       "95     5\n",
       "108    5\n",
       "93     5\n",
       "      ..\n",
       "83     1\n",
       "138    1\n",
       "141    1\n",
       "30     1\n",
       "191    1\n",
       "Name: count, Length: 92, dtype: int64"
      ]
     },
     "execution_count": 22,
     "metadata": {},
     "output_type": "execute_result"
    }
   ],
   "source": [
    "df[\"duration\"].value_counts()"
   ]
  },
  {
   "cell_type": "markdown",
   "id": "53d70de3-322f-46f6-9102-94bce421937c",
   "metadata": {},
   "source": [
    "### Using the \"mode\" in built statistics function to deduce the most frequent movies"
   ]
  },
  {
   "cell_type": "code",
   "execution_count": 24,
   "id": "25a313cd-6c5d-4563-88f4-6dd57a1832cb",
   "metadata": {},
   "outputs": [
    {
     "data": {
      "text/plain": [
       "np.int64(94)"
      ]
     },
     "execution_count": 24,
     "metadata": {},
     "output_type": "execute_result"
    }
   ],
   "source": [
    "duration = df[\"duration\"].mode().sum()\n",
    "duration"
   ]
  },
  {
   "cell_type": "markdown",
   "id": "26027ba4-3a89-463e-8594-d03f05e99e55",
   "metadata": {},
   "source": [
    "The most frequent movie duration in the 1990s is 94 minutes"
   ]
  },
  {
   "cell_type": "markdown",
   "id": "6e0fec96-9300-4960-9b0f-193c1f91b5be",
   "metadata": {},
   "source": [
    "### Confirming the datatype of the variable name \"duration\""
   ]
  },
  {
   "cell_type": "code",
   "execution_count": 25,
   "id": "766efb84-a5d3-4570-b04b-00abbbd79ac2",
   "metadata": {},
   "outputs": [
    {
     "data": {
      "text/plain": [
       "dtype('int64')"
      ]
     },
     "execution_count": 25,
     "metadata": {},
     "output_type": "execute_result"
    }
   ],
   "source": [
    "duration.dtype"
   ]
  },
  {
   "cell_type": "markdown",
   "id": "c86b480a-f791-4bc3-9f90-0367cc12cf95",
   "metadata": {},
   "source": [
    "# Question 2:\n",
    "A movie is considered short if it is less than 90 minutes. Count the number of short action movies relesaed 1990s and save this integer as short_movie_count"
   ]
  },
  {
   "cell_type": "markdown",
   "id": "368d62c9-e363-4597-9c9e-2ba7edd7603c",
   "metadata": {},
   "source": [
    "### Checking out the different genres of movies released in the 1990s"
   ]
  },
  {
   "cell_type": "code",
   "execution_count": 7,
   "id": "82485268-fef4-49b0-a1e0-cdf20e75d848",
   "metadata": {},
   "outputs": [
    {
     "data": {
      "text/plain": [
       "genre\n",
       "Dramas                  1343\n",
       "Comedies                1029\n",
       "Action                   696\n",
       "Children                 421\n",
       "Documentaries            352\n",
       "Stand-Up                 283\n",
       "Horror Movies            239\n",
       "International Movies     100\n",
       "Classic Movies            69\n",
       "Thrillers                 49\n",
       "International TV          39\n",
       "Crime TV                  30\n",
       "Uncategorized             25\n",
       "British TV                20\n",
       "Independent Movies        20\n",
       "Anime Features            18\n",
       "Music                     14\n",
       "Cult Movies               11\n",
       "Sci-Fi                    11\n",
       "Kids                      10\n",
       "Anime Series               9\n",
       "Docuseries                 7\n",
       "TV Shows                   4\n",
       "Romantic Movies            3\n",
       "TV Comedies                3\n",
       "TV Action                  2\n",
       "Romantic TV                1\n",
       "TV Horror                  1\n",
       "Classic                    1\n",
       "Reality TV                 1\n",
       "LGBTQ Movies               1\n",
       "Name: count, dtype: int64"
      ]
     },
     "execution_count": 7,
     "metadata": {},
     "output_type": "execute_result"
    }
   ],
   "source": [
    "df[\"genre\"].value_counts()"
   ]
  },
  {
   "cell_type": "markdown",
   "id": "7f1acb25-8d28-4293-8989-7ab4b7e81ffc",
   "metadata": {},
   "source": [
    "### Creating a bar plot to visualize the genres of movies released in the 1990s"
   ]
  },
  {
   "cell_type": "code",
   "execution_count": 8,
   "id": "1d2f738d-caaa-44c3-ae88-ce72a49f397c",
   "metadata": {},
   "outputs": [
    {
     "data": {
      "text/plain": [
       "''"
      ]
     },
     "execution_count": 8,
     "metadata": {},
     "output_type": "execute_result"
    },
    {
     "data": {
      "image/png": "[encoded data removed]",
      "text/plain": [
       "<Figure size 1600x800 with 1 Axes>"
      ]
     },
     "metadata": {},
     "output_type": "display_data"
    }
   ],
   "source": [
    "df[\"genre\"].value_counts().plot(kind=\"bar\", figsize = (16,8), rot=0);\n",
    "plt.xlabel(\"Movie Genre\")\n",
    "plt.ylabel(\"Count of Movies\")\n",
    "plt.title(\"Genre of Movies Released in the 1990s\")\n",
    "\n",
    "\n",
    ";"
   ]
  },
  {
   "cell_type": "markdown",
   "id": "be16dbb0-2c94-4833-a5c3-1b1bc0899a60",
   "metadata": {},
   "source": [
    "### Subsetting the short action movies with duration less than 90 minuites"
   ]
  },
  {
   "cell_type": "code",
   "execution_count": 41,
   "id": "ad528935-3ef2-4354-bf16-b74a33d94d55",
   "metadata": {},
   "outputs": [
    {
     "data": {
      "text/plain": [
       "6       False\n",
       "118     False\n",
       "145     False\n",
       "167     False\n",
       "194     False\n",
       "        ...  \n",
       "4672    False\n",
       "4689    False\n",
       "4718    False\n",
       "4746    False\n",
       "4756    False\n",
       "Length: 184, dtype: bool"
      ]
     },
     "execution_count": 41,
     "metadata": {},
     "output_type": "execute_result"
    }
   ],
   "source": [
    "short_action_movies = (df[\"genre\"] == \"Action\") & (df[\"duration\"] < 90)\n",
    "short_action_movies"
   ]
  },
  {
   "cell_type": "markdown",
   "id": "26f7901e-d37c-42ad-b7c0-73e44a87fd6f",
   "metadata": {},
   "source": [
    "### Obtaining the total count of movies with short duration"
   ]
  },
  {
   "cell_type": "code",
   "execution_count": 44,
   "id": "5e628dcb-d4c3-4ea8-9776-62c840e283c6",
   "metadata": {},
   "outputs": [
    {
     "data": {
      "text/plain": [
       "np.int64(7)"
      ]
     },
     "execution_count": 44,
     "metadata": {},
     "output_type": "execute_result"
    }
   ],
   "source": [
    "short_movie_count = short_action_movies.sum()\n",
    "short_movie_count"
   ]
  },
  {
   "cell_type": "markdown",
   "id": "893e1d65-8e0f-46fb-a2cf-ca96123429a6",
   "metadata": {},
   "source": [
    "## On Netflix, there are only 7 action movies that were premiered in the 1990s"
   ]
  }
 ],
 "metadata": {
  "kernelspec": {
   "display_name": "Python 3 (ipykernel)",
   "language": "python",
   "name": "python3"
  },
  "language_info": {
   "codemirror_mode": {
    "name": "ipython",
    "version": 3
   },
   "file_extension": ".py",
   "mimetype": "text/x-python",
   "name": "python",
   "nbconvert_exporter": "python",
   "pygments_lexer": "ipython3",
   "version": "3.13.5"
  }
 },
 "nbformat": 4,
 "nbformat_minor": 5
}
